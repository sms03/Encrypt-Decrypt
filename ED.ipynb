{
 "cells": [
  {
   "cell_type": "code",
   "execution_count": 37,
   "metadata": {},
   "outputs": [],
   "source": [
    "from tkinter import *\n",
    "from tkinter import messagebox\n",
    "import base64\n",
    "import os"
   ]
  },
  {
   "cell_type": "code",
   "execution_count": null,
   "metadata": {},
   "outputs": [],
   "source": [
    "global screen\n",
    "global code\n",
    "global text1"
   ]
  },
  {
   "cell_type": "code",
   "execution_count": 33,
   "metadata": {},
   "outputs": [],
   "source": [
    "def decrypt():\n",
    "    password=code.get()\n",
    "\n",
    "    if password==\"1234\":\n",
    "        screen2=Toplevel(screen)\n",
    "        screen2.title(\"Decryption\")\n",
    "        screen2.geometry(\"400x200\")\n",
    "        screen2.configure(bg=\"Lightgreen\")\n",
    "\n",
    "        message=text1.get(1.0, END)\n",
    "        decode_message=message.encode(\"ascii\")\n",
    "        base64_bytes=base64.b64decode(decode_message)\n",
    "        decrypt=base64_bytes.decode(\"ascii\")\n",
    "\n",
    "\n",
    "        Label(screen2, text=\"DECRYPT\", font=\"Arial\", fg=\"white\", bg=\"Lightgreen\").place(x=10, y=0)\n",
    "        text2=Text(screen2, font=\"Rpbote 10\", bg=\"white\", relief=GROOVE, wrap=WORD, bd=0)\n",
    "        text2.place(x=10, y=40, width=350, height=150)\n",
    "\n",
    "        text2.insert(END, decrypt)\n",
    "    \n",
    "    elif password==\"\":\n",
    "        messagebox.showerror(\"decryption\", \"Input Passcode\")\n",
    "    \n",
    "    elif password != \"1234\":\n",
    "        messagebox.showerror(\"decryption\", \"Invalid Passcode\")"
   ]
  },
  {
   "cell_type": "code",
   "execution_count": 34,
   "metadata": {},
   "outputs": [],
   "source": [
    "def encrypt():\n",
    "    password=code.get()\n",
    "\n",
    "    if password==\"1234\":\n",
    "        screen1=Toplevel(screen)\n",
    "        screen1.title(\"Encryption\")\n",
    "        screen1.geometry(\"400x200\")\n",
    "        screen1.configure(bg=\"#ed3833\")\n",
    "\n",
    "        message=text1.get(1.0, END)\n",
    "        encode_message=message.encode(\"ascii\")\n",
    "        base64_bytes=base64.b64encode(encode_message)\n",
    "        encrypt=base64_bytes.decode(\"ascii\")\n",
    "\n",
    "\n",
    "        Label(screen1, text=\"ENCRYPT\", font=\"Arial\", fg=\"white\", bg=\"#ed3833\").place(x=10, y=0)\n",
    "        text2=Text(screen1, font=\"Rpbote 10\", bg=\"white\", relief=GROOVE, wrap=WORD, bd=0)\n",
    "        text2.place(x=10, y=40, width=350, height=150)\n",
    "\n",
    "        text2.insert(END, encrypt)\n",
    "    \n",
    "    elif password==\"\":\n",
    "        messagebox.showerror(\"encryption\", \"Input Passcode\")\n",
    "    \n",
    "    elif password != \"1234\":\n",
    "        messagebox.showerror(\"encryption\", \"Invalid Passcode\")"
   ]
  },
  {
   "cell_type": "code",
   "execution_count": 35,
   "metadata": {},
   "outputs": [],
   "source": [
    "def main_screen():\n",
    "    \n",
    "    global screen\n",
    "    global code\n",
    "    global text1\n",
    "\n",
    "    screen=Tk()\n",
    "    screen.geometry(\"400x400\")\n",
    "\n",
    "    #icon=PhotoImage(file=\".jpg\")\n",
    "    #screen.iconphoto(False,icon)\n",
    "\n",
    "    screen.title(\"ED\")\n",
    "\n",
    "    def reset():\n",
    "        code.set(\"\")\n",
    "        text1.delete(1.0, END)\n",
    "\n",
    "    Label(text=\"Enter text for Encryption or Decryption\", fg=\"black\", font=(\"Times New Roman\",16)).place(x=10,y=10)\n",
    "    text1=Text(font=\"Arial 22\", bg=\"white\", relief=GROOVE, wrap=WORD, bd=0)\n",
    "    text1.place(x=10, y=50, width=380, height=100)\n",
    "\n",
    "    Label(text=\"Enter secret ED key\", fg=\"black\", font=(\"Times New Roman\",16)).place(x=10,y=170)\n",
    "\n",
    "    code=StringVar()\n",
    "    Entry(textvariable=code, width=18, bd=0, font=(\"Calibri\", 25), show=\"*\").place(x=10, y=200)\n",
    "\n",
    "    Button(text=\"ENCRYPT\", height=\"2\", width=24, bg=\"#ed3833\", fg=\"white\", bd=0, command=encrypt).place(x=10, y=250)\n",
    "    Button(text=\"DECRYPT\", height=\"2\", width=24, bg=\"#00bd56\", fg=\"white\", bd=0, command=decrypt).place(x=215, y=250)\n",
    "    Button(text=\"RESET\", height=\"2\", width=50, bg=\"#1089ff\", fg=\"white\", bd=0, command=reset).place(x=25, y=300)\n",
    "\n",
    "    screen.mainloop()\n",
    "\n",
    "main_screen()"
   ]
  }
 ],
 "metadata": {
  "kernelspec": {
   "display_name": "Python 3",
   "language": "python",
   "name": "python3"
  },
  "language_info": {
   "codemirror_mode": {
    "name": "ipython",
    "version": 3
   },
   "file_extension": ".py",
   "mimetype": "text/x-python",
   "name": "python",
   "nbconvert_exporter": "python",
   "pygments_lexer": "ipython3",
   "version": "3.11.5"
  }
 },
 "nbformat": 4,
 "nbformat_minor": 2
}
